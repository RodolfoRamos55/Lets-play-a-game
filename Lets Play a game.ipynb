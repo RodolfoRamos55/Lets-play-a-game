{
 "cells": [
  {
   "cell_type": "code",
   "execution_count": 1,
   "id": "a3fe4cc5",
   "metadata": {},
   "outputs": [
    {
     "name": "stdout",
     "output_type": "stream",
     "text": [
      "Greetings and welcome. I want to play a game. This is a 2 player game. You will choose Rock,Paper or Scissors. The rules of our game have been made very clear. You need to abide by those rules.\n",
      "\n",
      "Player 1, Make your choice (rock, paper, scissors): rock\n",
      "You typed rock\n",
      "Player 2, choose wisely ! (rock, paper, scissors): paper\n",
      "\n",
      "Player 1 rock, Player 2 paper.\n",
      "\n",
      "Paper beats rock! You lose. Game Over!\n",
      "Player 1, Make your choice (rock, paper, scissors): quit\n"
     ]
    }
   ],
   "source": [
    "print (\"Greetings and welcome. I want to play a game. This is a 2 player game. You will choose Rock,Paper or Scissors. The rules of our game have been made very clear. You need to abide by those rules.\\n\")\n",
    "\n",
    "while True:\n",
    "    player_1 = input(\"Player 1, Make your choice (rock, paper, scissors): \")\n",
    "    if player_1 == \"quit\":\n",
    "      break\n",
    "    else: \n",
    "      print(\"You typed \" + player_1)\n",
    "    player_2 = input(\"Player 2, choose wisely ! (rock, paper, scissors): \")\n",
    "    print(f\"\\nPlayer 1 {player_1}, Player 2 {player_2}.\\n\")\n",
    "    \n",
    "    if player_1 == player_2:\n",
    "        print(f\"Both players selected {player_1}. It's a tie!\")\n",
    "    elif player_1 == \"rock\":\n",
    "        if player_2 == \"scissors\":\n",
    "            print(\"Rock beats scissors! You win!\")\n",
    "        else:\n",
    "            print(\"Paper beats rock! You lose. Game Over!\")\n",
    "    elif player_1 == \"paper\":\n",
    "        if player_2 == \"rock\":\n",
    "            print(\"Paper beats rock! You win!\")\n",
    "        else:\n",
    "            print(\"Scissors beats paper! You lose. Game Over!\")\n",
    "    elif player_1 == \"scissors\":\n",
    "        if player_2 == \"paper\":\n",
    "            print(\"Scissors beats paper! You win!\")\n",
    "        else:\n",
    "            print(\"Rock beats scissors! You lose. Game Over!\")"
   ]
  }
 ],
 "metadata": {
  "kernelspec": {
   "display_name": "Python 3",
   "language": "python",
   "name": "python3"
  },
  "language_info": {
   "codemirror_mode": {
    "name": "ipython",
    "version": 3
   },
   "file_extension": ".py",
   "mimetype": "text/x-python",
   "name": "python",
   "nbconvert_exporter": "python",
   "pygments_lexer": "ipython3",
   "version": "3.8.8"
  }
 },
 "nbformat": 4,
 "nbformat_minor": 5
}
